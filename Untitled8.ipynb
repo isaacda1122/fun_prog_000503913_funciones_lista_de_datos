{
  "nbformat": 4,
  "nbformat_minor": 0,
  "metadata": {
    "colab": {
      "provenance": [],
      "authorship_tag": "ABX9TyOqhMD0mqWIE/P7IP6XGWi6",
      "include_colab_link": true
    },
    "kernelspec": {
      "name": "python3",
      "display_name": "Python 3"
    },
    "language_info": {
      "name": "python"
    }
  },
  "cells": [
    {
      "cell_type": "markdown",
      "metadata": {
        "id": "view-in-github",
        "colab_type": "text"
      },
      "source": [
        "<a href=\"https://colab.research.google.com/github/isaacda1122/fun_prog_000503913_funciones_lista_de_datos/blob/main/Untitled8.ipynb\" target=\"_parent\"><img src=\"https://colab.research.google.com/assets/colab-badge.svg\" alt=\"Open In Colab\"/></a>"
      ]
    },
    {
      "cell_type": "markdown",
      "source": [
        "Fundamentos de Programación para Ingeniería Mecánica\n",
        "\n",
        "UPB Montería - 202310\n",
        "\n",
        "Taller 5: Funciones y Estructuras de Datos\n",
        "\n",
        "Docente: Miguel Ortiz (miguel.ortizp@upb.edu.co)\n",
        "\n",
        "Datos del Estudiante:\n",
        "\n",
        "* Nombre:isaac david hernandez hernandez\n",
        "*ID:000503913\n",
        "*email:isaachernandezh@upb.edu.co\n",
        "\n",
        "         Resuelva los siguientes ejercicios utilizando Funciones, Listas y Diccionarios."
      ],
      "metadata": {
        "id": "R0UmNn3rGQSn"
      }
    },
    {
      "cell_type": "code",
      "source": [
        "import random\n",
        "\n",
        "def generar_discurso():\n",
        "    # Entrada de información por parte del usuario\n",
        "    nombre = input(\"Ingrese nombre del candidato: \")\n",
        "    presupuesto = float(input(\"Ingrese presupuesto (en millones de pesos): \"))\n",
        "    porcentaje1 = float(input(\"Ingrese Porcentaje 1: \"))\n",
        "    porcentaje2 = float(input(\"Ingrese Porcentaje 2: \"))\n",
        "    porcentaje3 = float(input(\"Ingrese Porcentaje 3: \"))\n",
        "    \n",
        "    # Selección aleatoria de las palbras del discurso\n",
        "    titulo = random.choice(['Queridos', 'Apreciados', 'distinguidos', 'Honorables', 'estimados', 'respetados'])\n",
        "    publico_objetivo = random.choice(['Compatriotas', 'copartidarios', 'amigos', 'coterraneos', 'concuidadanos', 'electores'])\n",
        "    condicion = random.choice(['En mi gobierno', 'Con su apoyo', 'Siendo elegido', 'Con su ayuda', 'Si me siguen', 'Durante mi mandato'])\n",
        "    compromiso = random.choice(['voy a derrotar', 'vencere', 'eliminare', 'acabare', 'luchare contra', 'combatire'])\n",
        "    ilusion_lucha = random.choice(['la violencia y', 'la delincuencia y', 'la corrupcion y', 'la inflacion y', 'la pobreza y', 'el desplazamiento y'])\n",
        "    promesa = random.choice(['Trabajare por', 'Garantizare', 'protegere', 'velare por', 'promovere', 'defendere'])\n",
        "    beneficio_publico = random.choice(['la educacion', 'el empleo', 'la seguridad', 'la paz', 'la igualdad', 'la salud'])\n",
        "    dependiente = random.choice(['de la cantidad de votos', 'del pais', 'de la ciudad', 'de la comunidad', 'de la poblacion', 'para toda la gente', 'de cada colombiano'])\n",
        "    \n",
        "    # Cálculo de los montos a invertir en cada sector\n",
        "    monto1 = presupuesto * (porcentaje1 / 100)\n",
        "    monto2 = presupuesto * (porcentaje2 / 100)\n",
        "    monto3 = presupuesto * (porcentaje3 / 100)\n",
        "    \n",
        "    # Creación del mensaje político\n",
        "    mensaje = f\"{titulo} {publico_objetivo}. \\nMi nombre es {nombre} y hoy vengo a decirles que, {condicion} {compromiso} {ilusion_lucha} {promesa} {beneficio_publico}. Y es por eso que hoy he venido a proponerles invertir ${presupuesto} millones de pesos de la siguiente manera:\\n - ${monto1} millones de pesos en el empleo\\n - ${monto2} millones de pesos en la educación\\n - ${monto3} millones de pesos en la salud\\n{dependiente}.\"\n",
        "    \n",
        "    return mensaje\n",
        "\n",
        "# Llamado a la función para generar el mensaje político\n",
        "mensaje_politico = generar_discurso()\n",
        "\n",
        "# Impresión del mensaje político generado\n",
        "print(mensaje_politico)\n"
      ],
      "metadata": {
        "id": "pCRssyvSVXT1"
      },
      "execution_count": null,
      "outputs": []
    }
  ]
}